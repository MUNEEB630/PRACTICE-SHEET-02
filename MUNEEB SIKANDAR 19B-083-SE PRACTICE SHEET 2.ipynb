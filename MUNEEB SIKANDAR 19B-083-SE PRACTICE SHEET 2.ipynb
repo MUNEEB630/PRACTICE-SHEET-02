{
 "cells": [
  {
   "cell_type": "markdown",
   "metadata": {},
   "source": [
    "# PROBLEM  01 "
   ]
  },
  {
   "cell_type": "code",
   "execution_count": 53,
   "metadata": {},
   "outputs": [
    {
     "name": "stdout",
     "output_type": "stream",
     "text": [
      "Area of the function is : 2.25 cm\n"
     ]
    }
   ],
   "source": [
    "import math\n",
    "def area_of_triangle(base,radius):\n",
    "    area = base*radius/2\n",
    "    print(\"Area of the function is :\",area,\"cm\")\n",
    "    return\n",
    "area_of_triangle(3,1.5)"
   ]
  },
  {
   "cell_type": "markdown",
   "metadata": {},
   "source": [
    "# PROBLEM 02:"
   ]
  },
  {
   "cell_type": "code",
   "execution_count": 55,
   "metadata": {},
   "outputs": [
    {
     "name": "stdout",
     "output_type": "stream",
     "text": [
      "SIKANDAR\n"
     ]
    }
   ],
   "source": [
    "def findrelation(x):\n",
    "    relations = {'ABU':'SIKANDAR',\n",
    "                 'AMI':'SAFIA',\n",
    "                 'BHAI':'MEHMOOD',\n",
    "                 'SISTERS':'NIMRA' }\n",
    "    for i in relations:\n",
    "        if i == x:\n",
    "            print(relations[x])\n",
    "        else:\n",
    "            print(\"does not exist\")\n",
    "        return\n",
    "findrelation('ABU')"
   ]
  },
  {
   "cell_type": "markdown",
   "metadata": {},
   "source": [
    "# PROBLEM 03"
   ]
  },
  {
   "cell_type": "code",
   "execution_count": 54,
   "metadata": {},
   "outputs": [
    {
     "name": "stdout",
     "output_type": "stream",
     "text": [
      "Area of the function is : 5.625 cm\n"
     ]
    }
   ],
   "source": [
    "import math\n",
    "def area_of_triangle(base,radius):\n",
    "    area = base*radius/2\n",
    "    print(\"Area of the function is :\",area,\"cm\")\n",
    "    return\n",
    "area_of_triangle(5,2.25)"
   ]
  },
  {
   "cell_type": "markdown",
   "metadata": {},
   "source": [
    "# PROBLEM 04"
   ]
  },
  {
   "cell_type": "code",
   "execution_count": 101,
   "metadata": {},
   "outputs": [
    {
     "name": "stdout",
     "output_type": "stream",
     "text": [
      "the sum of even numbers are  16\n"
     ]
    }
   ],
   "source": [
    "def even(a,b,c,d,e):\n",
    "    lst=[a,b,c,d,e]\n",
    "    sum=0\n",
    "    for i in lst:\n",
    "        if i%2==0:\n",
    "            sum+=i\n",
    "    print(\"the sum of even numbers are \",sum)\n",
    "even(5,8,6,3,2)"
   ]
  },
  {
   "cell_type": "markdown",
   "metadata": {},
   "source": [
    "# PROBLEM 05"
   ]
  },
  {
   "cell_type": "code",
   "execution_count": 88,
   "metadata": {},
   "outputs": [
    {
     "name": "stdout",
     "output_type": "stream",
     "text": [
      "the sorted list [24, 39, 43, 45, 844, 991]\n"
     ]
    }
   ],
   "source": [
    "def sort(a,b,c,d,e,f):\n",
    "    lst=[a,b,c,d,e,f]\n",
    "    lst.sort()\n",
    "    print(\"the sorted list\",lst)\n",
    "sort(991,844,43,24,45,39)\n",
    "\n"
   ]
  },
  {
   "cell_type": "markdown",
   "metadata": {},
   "source": [
    "# PROBLEM 06"
   ]
  },
  {
   "cell_type": "code",
   "execution_count": 74,
   "metadata": {},
   "outputs": [
    {
     "name": "stdout",
     "output_type": "stream",
     "text": [
      "time take is in 1 min :\n",
      "78.68981633974484\n"
     ]
    }
   ],
   "source": [
    "from math import pi\n",
    "def area_of_circle(r):\n",
    "    area = (pi*r**2)+(15/100)\n",
    "    print(area)\n",
    "    return\n",
    "print(\"time take is in 1 min :\")\n",
    "area_of_circle(5)"
   ]
  },
  {
   "cell_type": "markdown",
   "metadata": {},
   "source": [
    "# PROBLEM 07"
   ]
  },
  {
   "cell_type": "code",
   "execution_count": 90,
   "metadata": {},
   "outputs": [
    {
     "name": "stdout",
     "output_type": "stream",
     "text": [
      "the number of vowels are : 0\n",
      "the number of consonants are 1\n",
      "the number of vowels are : 1\n",
      "the number of consonants are 1\n",
      "the number of vowels are : 1\n",
      "the number of consonants are 2\n",
      "the number of vowels are : 2\n",
      "the number of consonants are 2\n",
      "the number of vowels are : 3\n",
      "the number of consonants are 2\n",
      "the number of vowels are : 3\n",
      "the number of consonants are 3\n"
     ]
    }
   ],
   "source": [
    "def vowels(s):\n",
    "    vow=0\n",
    "    cons=0\n",
    "    for i in s:\n",
    "        if i in \"aeiouAEIOU\":\n",
    "            vow+=1\n",
    "        else:\n",
    "            cons+=1\n",
    "        print(\"the number of vowels are :\",vow)\n",
    "        print(\"the number of consonants are\" ,cons)\n",
    "vowels(\"muneeb\")"
   ]
  },
  {
   "cell_type": "markdown",
   "metadata": {},
   "source": [
    "# PROBLEM 08"
   ]
  },
  {
   "cell_type": "code",
   "execution_count": 78,
   "metadata": {},
   "outputs": [
    {
     "name": "stdout",
     "output_type": "stream",
     "text": [
      "time take 50 sec\n",
      "50.08\n"
     ]
    }
   ],
   "source": [
    "def area_of_rectangle(length,breath):\n",
    "    p=2*\n",
    "    area =(length*breath)+(8/100)\n",
    "    print(area)\n",
    "    return\n",
    "print(\"time take 50 sec\")\n",
    "area_of_rectangle(5,10)"
   ]
  },
  {
   "cell_type": "markdown",
   "metadata": {},
   "source": [
    "# PROBLEM 09:"
   ]
  },
  {
   "cell_type": "code",
   "execution_count": 100,
   "metadata": {},
   "outputs": [
    {
     "name": "stdout",
     "output_type": "stream",
     "text": [
      "even list are [4, 64, 16, 44] \n",
      " odd list are [45, 21]\n"
     ]
    }
   ],
   "source": [
    "def str(a,b,c,d,e,f):\n",
    "    even=[]\n",
    "    odd=[]\n",
    "    lst=[a,b,c,d,e,f]\n",
    "    for i in lst:\n",
    "        if i%2 ==0:\n",
    "            even.append(i)\n",
    "        else:\n",
    "            odd.append(i)\n",
    "    print(\"even list are\",even,\"\\n odd list are\",odd)\n",
    "str(4,45,21,64,16,44)"
   ]
  },
  {
   "cell_type": "markdown",
   "metadata": {},
   "source": [
    "# PROBLEM 10"
   ]
  },
  {
   "cell_type": "code",
   "execution_count": 111,
   "metadata": {},
   "outputs": [
    {
     "name": "stdout",
     "output_type": "stream",
     "text": [
      "the missing alphabets are  ['a', 'c', 'd', 'f', 'g', 'h', 'i', 'j', 'k', 'l', 'o', 'p', 'q', 'r', 's', 't', 'v', 'w', 'x', 'y', 'z']\n",
      "the used alphabet are  muneb\n",
      "m u n e b "
     ]
    }
   ],
   "source": [
    "def alpha(s):\n",
    "    alphabets=['a','b','c','d','e','f','g','h','i','j','k','l','m','n','o','p','q','r','s','t','u','v','w','x','y','z']\n",
    "    for i in s:\n",
    "        alphabets.remove(i)\n",
    "    print('the missing alphabets are ',alphabets)\n",
    "    print(\"the used alphabet are \",s)\n",
    "    for i in s:\n",
    "        print(i,end=\" \")\n",
    "alpha(\"muneb\")\n"
   ]
  },
  {
   "cell_type": "markdown",
   "metadata": {},
   "source": [
    "# PROBLEM 11"
   ]
  },
  {
   "cell_type": "code",
   "execution_count": 112,
   "metadata": {},
   "outputs": [
    {
     "name": "stdout",
     "output_type": "stream",
     "text": [
      "falling\n",
      "calling\n"
     ]
    }
   ],
   "source": [
    "def verb(x):\n",
    "    return x+\"ing\"\n",
    "print(verb(\"fall\"))\n",
    "print(verb(\"call\"))"
   ]
  },
  {
   "cell_type": "markdown",
   "metadata": {},
   "source": [
    "# PROBLEM 12"
   ]
  },
  {
   "cell_type": "code",
   "execution_count": null,
   "metadata": {},
   "outputs": [],
   "source": [
    "import math\n",
    "def area(r1,r2):\n",
    "    area1=math.pi*r1*r1\n",
    "    area2=math.pi*r2*r2\n",
    "    if r1>r2:\n",
    "        a=area1-area2\n",
    "        print(\"the area of circle is \",a)\n",
    "    elif r1<r2:\n",
    "        a=area2-area1\n",
    "        print(\"the area of circle is \",a)\n",
    "print(area(5,8))\n",
    "print(area(8,5))"
   ]
  },
  {
   "cell_type": "markdown",
   "metadata": {},
   "source": [
    "# PROBLEM 13"
   ]
  },
  {
   "cell_type": "code",
   "execution_count": 113,
   "metadata": {},
   "outputs": [
    {
     "name": "stdout",
     "output_type": "stream",
     "text": [
      "the nunmber of lower letters are  5\n",
      "the nunmber of upper letters are  1\n"
     ]
    }
   ],
   "source": [
    "def string_count(x):\n",
    "    count1=0\n",
    "    count2=0\n",
    "    for i in x:\n",
    "        if (i.islower()):\n",
    "            count1+=1\n",
    "        elif (i.isupper()):\n",
    "            count2+=1\n",
    "    print(\"the nunmber of lower letters are \",count1)\n",
    "    print(\"the nunmber of upper letters are \",count2)\n",
    "string_count(\"muNeeb\")"
   ]
  },
  {
   "cell_type": "markdown",
   "metadata": {},
   "source": [
    "# PROBLEM 14"
   ]
  },
  {
   "cell_type": "code",
   "execution_count": 115,
   "metadata": {},
   "outputs": [
    {
     "name": "stdout",
     "output_type": "stream",
     "text": [
      "the area of rectangle is  42  m.sq\n",
      "the area of rectangle is  42  m.sq\n"
     ]
    }
   ],
   "source": [
    "def area_rect(l1,b1,l2,b2):\n",
    "    area1=l1*b1\n",
    "    area2=l2*b2\n",
    "    if area1>area2:\n",
    "        area=area1-area2\n",
    "        print(\"the area of rectangle is \",area,\" m.sq\")\n",
    "    elif area2>area1:\n",
    "        area=area2-area1\n",
    "        print(\"the area of rectangle is \",area,\" m.sq\")\n",
    "area_rect(5,6,8,9)\n",
    "area_rect(8,9,5,6)"
   ]
  },
  {
   "cell_type": "markdown",
   "metadata": {},
   "source": [
    "# PROBLEM 15"
   ]
  },
  {
   "cell_type": "code",
   "execution_count": 119,
   "metadata": {},
   "outputs": [
    {
     "name": "stdout",
     "output_type": "stream",
     "text": [
      "2\n"
     ]
    }
   ],
   "source": [
    "def fraction():\n",
    "    sum = (1/8+1/7+1/6+1/5+1/4+1/3+1/2)\n",
    "    print('%0.0f'%sum)\n",
    "    return\n",
    "fraction()"
   ]
  },
  {
   "cell_type": "markdown",
   "metadata": {},
   "source": [
    "# PROBLEM 16"
   ]
  },
  {
   "cell_type": "code",
   "execution_count": 118,
   "metadata": {},
   "outputs": [
    {
     "name": "stdout",
     "output_type": "stream",
     "text": [
      "the third side of triangle is  5.0\n"
     ]
    }
   ],
   "source": [
    "import math\n",
    "def tri(a,b):\n",
    "    C=(a*a)+(b*b)\n",
    "    c=math.sqrt(C)\n",
    "    print(\"the third side of triangle is \",c)\n",
    "tri(4,3)"
   ]
  },
  {
   "cell_type": "markdown",
   "metadata": {},
   "source": [
    "# PROBLEM 17"
   ]
  },
  {
   "cell_type": "code",
   "execution_count": 120,
   "metadata": {},
   "outputs": [
    {
     "name": "stdout",
     "output_type": "stream",
     "text": [
      "the repititive elements are:  7\n"
     ]
    }
   ],
   "source": [
    "import collections\n",
    "def repwords(a,b,c):\n",
    "    lst=[a,b,c]\n",
    "    z=0\n",
    "    an=0\n",
    "    for i in lst:\n",
    "        for j in i:\n",
    "            n=i.count(j)\n",
    "            if n>1:\n",
    "                an+=1\n",
    "    print('the repititive elements are: ',an)\n",
    "repwords(\"apple\",'banana','orange')"
   ]
  },
  {
   "cell_type": "markdown",
   "metadata": {},
   "source": [
    "# PROBLEM 18"
   ]
  },
  {
   "cell_type": "code",
   "execution_count": 116,
   "metadata": {},
   "outputs": [
    {
     "name": "stdout",
     "output_type": "stream",
     "text": [
      "the area of shape is  3500\n",
      "the area of shape is  3500\n"
     ]
    }
   ],
   "source": [
    "def shape_area(l1,r1,l2,r2):\n",
    "    area1=l1*l1*r1\n",
    "    area2=l2*l2*r2\n",
    "    if area1>area2:\n",
    "        area=area1-area2\n",
    "        print(\"the area of shape is \",area)\n",
    "    elif area2>area1:\n",
    "        area=area2-area1\n",
    "        print(\"the area of shape is \",area)\n",
    "shape_area(10,5,20,10)\n",
    "shape_area(20,10,10,5)"
   ]
  },
  {
   "cell_type": "code",
   "execution_count": null,
   "metadata": {},
   "outputs": [],
   "source": []
  }
 ],
 "metadata": {
  "kernelspec": {
   "display_name": "Python 3",
   "language": "python",
   "name": "python3"
  },
  "language_info": {
   "codemirror_mode": {
    "name": "ipython",
    "version": 3
   },
   "file_extension": ".py",
   "mimetype": "text/x-python",
   "name": "python",
   "nbconvert_exporter": "python",
   "pygments_lexer": "ipython3",
   "version": "3.7.3"
  }
 },
 "nbformat": 4,
 "nbformat_minor": 2
}
